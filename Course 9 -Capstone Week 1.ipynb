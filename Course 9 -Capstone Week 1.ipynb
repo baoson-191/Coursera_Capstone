{
 "cells": [
  {
   "cell_type": "markdown",
   "metadata": {
    "colab_type": "text",
    "id": "KWiV0DSLvdeb"
   },
   "source": [
    "\n",
    "# COVID-19'S PICTURE IN VIETNAM \n",
    "### _Author: Tran Ngoc Bao Son_"
   ]
  },
  {
   "cell_type": "markdown",
   "metadata": {},
   "source": [
    "##### _Credit: This report is contributed by Kaggle community_"
   ]
  },
  {
   "cell_type": "markdown",
   "metadata": {
    "colab_type": "text",
    "id": "I0J3qqTZvdek"
   },
   "source": [
    "## Table of contents\n",
    "* [Introduction: Business Problem](#introduction)\n",
    "* [Data](#data)\n",
    "* [Disclaimer](#data)\n",
    "* [Methodology](#methodology)\n",
    "* [Analysis](#analysis)\n",
    "* [Results and Discussion](#results)\n",
    "* [Conclusion](#conclusion)"
   ]
  },
  {
   "cell_type": "markdown",
   "metadata": {
    "colab_type": "text",
    "id": "jvQnq6EGvdem"
   },
   "source": [
    "\n",
    "\n",
    "# 1. Introduction:<a name=\"introduction\"></a>"
   ]
  },
  {
   "cell_type": "markdown",
   "metadata": {
    "colab_type": "text",
    "id": "yMWJ83LVvden"
   },
   "source": [
    "When the 2019's calendar was gradually closing, Chinese officials informed the first case of COVID-19 in Wuhan. Until now, many countries are dramatically suffered from pandemic aftermaths (US, Sweeden, Latin America, Europe ,etc. ), including Vietnam, reported their first COVID-19 cases since the Jan 2020.\n",
    "\n",
    "While the number of confirmed cases and deaths has exponentially risen in other countries, Vietnam currently only has under 400 COVID-19 cases in and NO FATALITIES.\n",
    "\n",
    "In fact, one remarkable point in Vietnam is privacy laws that are not as stringent as in the US, Japan or the EU. Therefore, COVID-19 patient data in Vietnam is almost publicly available. (To be more transparent and effective in COVID-19 contact tracing task, Vietnam COVID-19 patient data is publicly available on the Vietnam Ministry of Health's website https://moh.gov.vn/web/ministry-of-health and on other news.)\n",
    "\n",
    "The tradeoff in personal privacy, in this circumtance, provides the data science community the opportunity to look into more details about the COVID-19 pandemic in many aspects, and at the country level. So the goals is explore the unique features of COVID-19 data in Vietnam"
   ]
  },
  {
   "cell_type": "markdown",
   "metadata": {
    "colab_type": "text",
    "id": "5WPd8fs4vdeo"
   },
   "source": [
    "# 2. Data <a name=\"data\"></a>"
   ]
  },
  {
   "cell_type": "markdown",
   "metadata": {
    "colab_type": "text",
    "id": "deq-yd9uvdeq"
   },
   "source": [
    "Data was acquired by web scrapping with manually curated from the Vietnam Ministry of Health's website (https://ncov.moh.gov.vn/) and other mainstream media in Vietnam (cited specifically in each data row).\n",
    "\n",
    "To give better visualization for readers, correct cordinates (longtitude -lattitude) is partially used via Fourspace's API or Google to support this report's dataframes"
   ]
  },
  {
   "cell_type": "markdown",
   "metadata": {
    "colab_type": "text",
    "id": "Z1oPotJ8LIp-"
   },
   "source": [
    "# 3. Disclaimer <a name=\"data\"></a>"
   ]
  },
  {
   "cell_type": "markdown",
   "metadata": {},
   "source": [
    "* THIS IS A TEST AND NO LINK TO ANY GROUP OR OGRANIZATION. Although this analysis is data-driven and hence provides some insights about the government strategy as well as patient characteristics in Vietnam, my comments reflect my personal perspectives.\n",
    "\n",
    "\n",
    "* My results are based on the data collected from the Vietnam Health Ministry website and other mainstream media in Vietnam. Therefore, the data is likely to be biased and reflects what is publicly available on the internet. However, it can served as a good reference for someone who are curious about the COVID-19 pandemic in Vietnam."
   ]
  },
  {
   "cell_type": "markdown",
   "metadata": {},
   "source": [
    "# 4. Methodology \n",
    "EXPLORATORY DATA ANALYSIS - (EDA) is an approach to analyzing data sets to summarize their main characteristics, often with visual methods. A statistical model can be used or not, but primarily EDA is for seeing what the data can tell us beyond the formal modeling or hypothesis testing task\n",
    "\n",
    "LIST OF TRANSFORMED DATAFRAMES:\n",
    "\n",
    "* 'patient_data': all detail about patients\n",
    "\n",
    "* 'hospitalized_time': number of hospitalized days for each patient\n",
    "\n",
    "* 'df_travel_country': list of country patients did travel and got infected, 2 data frames for the first and second wave of infection (secondwave was started with patient BN17) (df_travel_country_firstwave and df_travel_country_secondwave)\n",
    "\n",
    "* 'df_cases': all statistics about cases\n",
    "\n",
    "* 'vietnam_cases_all_times': Number of cases (confirmed cases, new cases, death) in each province/region - same format as the world data format from Johns Hopkins University - CSSEG"
   ]
  },
  {
   "cell_type": "code",
   "execution_count": 2,
   "metadata": {},
   "outputs": [],
   "source": []
  },
  {
   "cell_type": "code",
   "execution_count": null,
   "metadata": {},
   "outputs": [],
   "source": []
  },
  {
   "cell_type": "code",
   "execution_count": null,
   "metadata": {},
   "outputs": [],
   "source": []
  }
 ],
 "metadata": {
  "kernelspec": {
   "display_name": "Python 3",
   "language": "python",
   "name": "python3"
  },
  "language_info": {
   "codemirror_mode": {
    "name": "ipython",
    "version": 3
   },
   "file_extension": ".py",
   "mimetype": "text/x-python",
   "name": "python",
   "nbconvert_exporter": "python",
   "pygments_lexer": "ipython3",
   "version": "3.8.3"
  }
 },
 "nbformat": 4,
 "nbformat_minor": 4
}
